{
 "cells": [
  {
   "cell_type": "code",
   "execution_count": 1,
   "metadata": {},
   "outputs": [],
   "source": [
    "# Library Imports.\n",
    "import pandas as pd\n",
    "import matplotlib.pyplot as plt\n",
    "import numpy as np\n",
    "import pickle\n",
    "\n",
    "# Allows plots to appear directly in the notebook.\n",
    "%matplotlib inline\n",
    "\n",
    "import pymysql\n",
    "import os\n",
    "#import mysql-connector-python\n",
    "\n",
    "from flask import Flask, render_template, request,session,redirect,url_for\n",
    "from sqlalchemy import create_engine\n",
    "\n",
    "from patsy import dmatrices\n",
    "from sklearn.linear_model import LinearRegression\n",
    "from sklearn.model_selection import train_test_split\n",
    "from sklearn import metrics\n",
    "from sklearn.model_selection import cross_validate\n",
    "from sklearn.model_selection import cross_val_score "
   ]
  },
  {
   "cell_type": "markdown",
   "metadata": {},
   "source": [
    "### Create a connection to the database"
   ]
  },
  {
   "cell_type": "code",
   "execution_count": 2,
   "metadata": {},
   "outputs": [],
   "source": [
    "\n",
    "\n",
    "con = pymysql.connect(\n",
    "    host=\"localhost\",\n",
    "    user=\"root\",\n",
    "    password=\"1234\",\n",
    "    database=\"dbikes_main\",\n",
    "    charset=\"utf8mb4\"\n",
    "    \n",
    ")\n",
    "\n",
    "cur=con.cursor()"
   ]
  },
  {
   "cell_type": "markdown",
   "metadata": {},
   "source": [
    "### Create two dataframes from the two sql queries"
   ]
  },
  {
   "cell_type": "code",
   "execution_count": 3,
   "metadata": {},
   "outputs": [],
   "source": [
    "# DF stations contains the data for the stations and the useful variables\n",
    "df_stations = pd.read_sql(\"Select Number,AvailableBikeStands,AvailableBikes,LastUpdate FROM dynamic_stations GROUP BY(Number) ,HOUR (LastUpdate), DAY(LastUpdate)\",con)\n",
    "# df_weather contains the data for the weather table\n",
    "df_weather = pd.read_sql(\"Select Description,Temperature,Humidity,Visibility,LastUpdate From weather_data GROUP BY DAY(LastUpdate),HOUR(LastUpdate)\",con)"
   ]
  },
  {
   "cell_type": "markdown",
   "metadata": {},
   "source": [
    "### Explore the data"
   ]
  },
  {
   "cell_type": "code",
   "execution_count": 4,
   "metadata": {},
   "outputs": [
    {
     "data": {
      "text/plain": [
       "(38522, 4)"
      ]
     },
     "execution_count": 4,
     "metadata": {},
     "output_type": "execute_result"
    }
   ],
   "source": [
    "df_stations.shape"
   ]
  },
  {
   "cell_type": "code",
   "execution_count": 5,
   "metadata": {},
   "outputs": [
    {
     "data": {
      "text/html": [
       "<div>\n",
       "<style scoped>\n",
       "    .dataframe tbody tr th:only-of-type {\n",
       "        vertical-align: middle;\n",
       "    }\n",
       "\n",
       "    .dataframe tbody tr th {\n",
       "        vertical-align: top;\n",
       "    }\n",
       "\n",
       "    .dataframe thead th {\n",
       "        text-align: right;\n",
       "    }\n",
       "</style>\n",
       "<table border=\"1\" class=\"dataframe\">\n",
       "  <thead>\n",
       "    <tr style=\"text-align: right;\">\n",
       "      <th></th>\n",
       "      <th>Number</th>\n",
       "      <th>AvailableBikeStands</th>\n",
       "      <th>AvailableBikes</th>\n",
       "      <th>LastUpdate</th>\n",
       "    </tr>\n",
       "  </thead>\n",
       "  <tbody>\n",
       "    <tr>\n",
       "      <th>0</th>\n",
       "      <td>42</td>\n",
       "      <td>15</td>\n",
       "      <td>15</td>\n",
       "      <td>2021-03-18 20:07:03</td>\n",
       "    </tr>\n",
       "    <tr>\n",
       "      <th>1</th>\n",
       "      <td>30</td>\n",
       "      <td>7</td>\n",
       "      <td>13</td>\n",
       "      <td>2021-03-18 20:04:17</td>\n",
       "    </tr>\n",
       "    <tr>\n",
       "      <th>2</th>\n",
       "      <td>54</td>\n",
       "      <td>14</td>\n",
       "      <td>19</td>\n",
       "      <td>2021-03-18 20:08:02</td>\n",
       "    </tr>\n",
       "    <tr>\n",
       "      <th>3</th>\n",
       "      <td>108</td>\n",
       "      <td>35</td>\n",
       "      <td>5</td>\n",
       "      <td>2021-03-18 20:12:48</td>\n",
       "    </tr>\n",
       "    <tr>\n",
       "      <th>4</th>\n",
       "      <td>56</td>\n",
       "      <td>23</td>\n",
       "      <td>16</td>\n",
       "      <td>2021-03-18 20:12:48</td>\n",
       "    </tr>\n",
       "    <tr>\n",
       "      <th>5</th>\n",
       "      <td>6</td>\n",
       "      <td>20</td>\n",
       "      <td>0</td>\n",
       "      <td>2021-03-18 20:04:11</td>\n",
       "    </tr>\n",
       "    <tr>\n",
       "      <th>6</th>\n",
       "      <td>18</td>\n",
       "      <td>18</td>\n",
       "      <td>12</td>\n",
       "      <td>2021-03-18 20:08:10</td>\n",
       "    </tr>\n",
       "    <tr>\n",
       "      <th>7</th>\n",
       "      <td>32</td>\n",
       "      <td>17</td>\n",
       "      <td>13</td>\n",
       "      <td>2021-03-18 20:09:20</td>\n",
       "    </tr>\n",
       "    <tr>\n",
       "      <th>8</th>\n",
       "      <td>52</td>\n",
       "      <td>25</td>\n",
       "      <td>7</td>\n",
       "      <td>2021-03-18 20:11:34</td>\n",
       "    </tr>\n",
       "    <tr>\n",
       "      <th>9</th>\n",
       "      <td>48</td>\n",
       "      <td>24</td>\n",
       "      <td>16</td>\n",
       "      <td>2021-03-18 20:11:25</td>\n",
       "    </tr>\n",
       "  </tbody>\n",
       "</table>\n",
       "</div>"
      ],
      "text/plain": [
       "   Number  AvailableBikeStands  AvailableBikes          LastUpdate\n",
       "0      42                   15              15 2021-03-18 20:07:03\n",
       "1      30                    7              13 2021-03-18 20:04:17\n",
       "2      54                   14              19 2021-03-18 20:08:02\n",
       "3     108                   35               5 2021-03-18 20:12:48\n",
       "4      56                   23              16 2021-03-18 20:12:48\n",
       "5       6                   20               0 2021-03-18 20:04:11\n",
       "6      18                   18              12 2021-03-18 20:08:10\n",
       "7      32                   17              13 2021-03-18 20:09:20\n",
       "8      52                   25               7 2021-03-18 20:11:34\n",
       "9      48                   24              16 2021-03-18 20:11:25"
      ]
     },
     "execution_count": 5,
     "metadata": {},
     "output_type": "execute_result"
    }
   ],
   "source": [
    "df_stations.head(10)"
   ]
  },
  {
   "cell_type": "code",
   "execution_count": 6,
   "metadata": {},
   "outputs": [
    {
     "data": {
      "text/html": [
       "<div>\n",
       "<style scoped>\n",
       "    .dataframe tbody tr th:only-of-type {\n",
       "        vertical-align: middle;\n",
       "    }\n",
       "\n",
       "    .dataframe tbody tr th {\n",
       "        vertical-align: top;\n",
       "    }\n",
       "\n",
       "    .dataframe thead th {\n",
       "        text-align: right;\n",
       "    }\n",
       "</style>\n",
       "<table border=\"1\" class=\"dataframe\">\n",
       "  <thead>\n",
       "    <tr style=\"text-align: right;\">\n",
       "      <th></th>\n",
       "      <th>Number</th>\n",
       "      <th>AvailableBikeStands</th>\n",
       "      <th>AvailableBikes</th>\n",
       "      <th>LastUpdate</th>\n",
       "    </tr>\n",
       "  </thead>\n",
       "  <tbody>\n",
       "    <tr>\n",
       "      <th>38512</th>\n",
       "      <td>36</td>\n",
       "      <td>26</td>\n",
       "      <td>14</td>\n",
       "      <td>2021-04-02 13:06:43</td>\n",
       "    </tr>\n",
       "    <tr>\n",
       "      <th>38513</th>\n",
       "      <td>2</td>\n",
       "      <td>17</td>\n",
       "      <td>3</td>\n",
       "      <td>2021-04-02 13:10:29</td>\n",
       "    </tr>\n",
       "    <tr>\n",
       "      <th>38514</th>\n",
       "      <td>75</td>\n",
       "      <td>24</td>\n",
       "      <td>16</td>\n",
       "      <td>2021-04-02 13:11:14</td>\n",
       "    </tr>\n",
       "    <tr>\n",
       "      <th>38515</th>\n",
       "      <td>100</td>\n",
       "      <td>2</td>\n",
       "      <td>23</td>\n",
       "      <td>2021-04-02 13:06:50</td>\n",
       "    </tr>\n",
       "    <tr>\n",
       "      <th>38516</th>\n",
       "      <td>64</td>\n",
       "      <td>29</td>\n",
       "      <td>11</td>\n",
       "      <td>2021-04-02 13:07:58</td>\n",
       "    </tr>\n",
       "    <tr>\n",
       "      <th>38517</th>\n",
       "      <td>109</td>\n",
       "      <td>19</td>\n",
       "      <td>10</td>\n",
       "      <td>2021-04-02 13:07:26</td>\n",
       "    </tr>\n",
       "    <tr>\n",
       "      <th>38518</th>\n",
       "      <td>44</td>\n",
       "      <td>24</td>\n",
       "      <td>6</td>\n",
       "      <td>2021-04-02 13:10:47</td>\n",
       "    </tr>\n",
       "    <tr>\n",
       "      <th>38519</th>\n",
       "      <td>57</td>\n",
       "      <td>18</td>\n",
       "      <td>5</td>\n",
       "      <td>2021-04-02 13:08:57</td>\n",
       "    </tr>\n",
       "    <tr>\n",
       "      <th>38520</th>\n",
       "      <td>80</td>\n",
       "      <td>25</td>\n",
       "      <td>15</td>\n",
       "      <td>2021-04-02 13:07:53</td>\n",
       "    </tr>\n",
       "    <tr>\n",
       "      <th>38521</th>\n",
       "      <td>39</td>\n",
       "      <td>18</td>\n",
       "      <td>2</td>\n",
       "      <td>2021-04-02 13:11:12</td>\n",
       "    </tr>\n",
       "  </tbody>\n",
       "</table>\n",
       "</div>"
      ],
      "text/plain": [
       "       Number  AvailableBikeStands  AvailableBikes          LastUpdate\n",
       "38512      36                   26              14 2021-04-02 13:06:43\n",
       "38513       2                   17               3 2021-04-02 13:10:29\n",
       "38514      75                   24              16 2021-04-02 13:11:14\n",
       "38515     100                    2              23 2021-04-02 13:06:50\n",
       "38516      64                   29              11 2021-04-02 13:07:58\n",
       "38517     109                   19              10 2021-04-02 13:07:26\n",
       "38518      44                   24               6 2021-04-02 13:10:47\n",
       "38519      57                   18               5 2021-04-02 13:08:57\n",
       "38520      80                   25              15 2021-04-02 13:07:53\n",
       "38521      39                   18               2 2021-04-02 13:11:12"
      ]
     },
     "execution_count": 6,
     "metadata": {},
     "output_type": "execute_result"
    }
   ],
   "source": [
    "df_stations.tail(10)"
   ]
  },
  {
   "cell_type": "code",
   "execution_count": 7,
   "metadata": {},
   "outputs": [
    {
     "data": {
      "text/plain": [
       "(354, 5)"
      ]
     },
     "execution_count": 7,
     "metadata": {},
     "output_type": "execute_result"
    }
   ],
   "source": [
    "df_weather.shape"
   ]
  },
  {
   "cell_type": "code",
   "execution_count": 8,
   "metadata": {},
   "outputs": [
    {
     "data": {
      "text/html": [
       "<div>\n",
       "<style scoped>\n",
       "    .dataframe tbody tr th:only-of-type {\n",
       "        vertical-align: middle;\n",
       "    }\n",
       "\n",
       "    .dataframe tbody tr th {\n",
       "        vertical-align: top;\n",
       "    }\n",
       "\n",
       "    .dataframe thead th {\n",
       "        text-align: right;\n",
       "    }\n",
       "</style>\n",
       "<table border=\"1\" class=\"dataframe\">\n",
       "  <thead>\n",
       "    <tr style=\"text-align: right;\">\n",
       "      <th></th>\n",
       "      <th>Description</th>\n",
       "      <th>Temperature</th>\n",
       "      <th>Humidity</th>\n",
       "      <th>Visibility</th>\n",
       "      <th>LastUpdate</th>\n",
       "    </tr>\n",
       "  </thead>\n",
       "  <tbody>\n",
       "    <tr>\n",
       "      <th>0</th>\n",
       "      <td>broken clouds</td>\n",
       "      <td>283.96</td>\n",
       "      <td>87</td>\n",
       "      <td>3.60</td>\n",
       "      <td>2021-03-18 20:14:24</td>\n",
       "    </tr>\n",
       "    <tr>\n",
       "      <th>1</th>\n",
       "      <td>broken clouds</td>\n",
       "      <td>283.67</td>\n",
       "      <td>93</td>\n",
       "      <td>4.12</td>\n",
       "      <td>2021-03-18 21:04:39</td>\n",
       "    </tr>\n",
       "    <tr>\n",
       "      <th>2</th>\n",
       "      <td>scattered clouds</td>\n",
       "      <td>282.9</td>\n",
       "      <td>87</td>\n",
       "      <td>5.66</td>\n",
       "      <td>2021-03-18 22:04:59</td>\n",
       "    </tr>\n",
       "    <tr>\n",
       "      <th>3</th>\n",
       "      <td>scattered clouds</td>\n",
       "      <td>282.46</td>\n",
       "      <td>93</td>\n",
       "      <td>7.72</td>\n",
       "      <td>2021-03-18 23:00:44</td>\n",
       "    </tr>\n",
       "    <tr>\n",
       "      <th>4</th>\n",
       "      <td>scattered clouds</td>\n",
       "      <td>282.43</td>\n",
       "      <td>87</td>\n",
       "      <td>6.17</td>\n",
       "      <td>2021-03-19 00:01:05</td>\n",
       "    </tr>\n",
       "    <tr>\n",
       "      <th>5</th>\n",
       "      <td>scattered clouds</td>\n",
       "      <td>282.13</td>\n",
       "      <td>93</td>\n",
       "      <td>5.14</td>\n",
       "      <td>2021-03-19 01:01:27</td>\n",
       "    </tr>\n",
       "    <tr>\n",
       "      <th>6</th>\n",
       "      <td>broken clouds</td>\n",
       "      <td>281.93</td>\n",
       "      <td>87</td>\n",
       "      <td>5.14</td>\n",
       "      <td>2021-03-19 02:01:50</td>\n",
       "    </tr>\n",
       "    <tr>\n",
       "      <th>7</th>\n",
       "      <td>few clouds</td>\n",
       "      <td>281.23</td>\n",
       "      <td>87</td>\n",
       "      <td>3.60</td>\n",
       "      <td>2021-03-19 03:02:13</td>\n",
       "    </tr>\n",
       "    <tr>\n",
       "      <th>8</th>\n",
       "      <td>few clouds</td>\n",
       "      <td>279.79</td>\n",
       "      <td>93</td>\n",
       "      <td>3.60</td>\n",
       "      <td>2021-03-19 04:02:38</td>\n",
       "    </tr>\n",
       "    <tr>\n",
       "      <th>9</th>\n",
       "      <td>few clouds</td>\n",
       "      <td>279.74</td>\n",
       "      <td>93</td>\n",
       "      <td>3.09</td>\n",
       "      <td>2021-03-19 05:03:03</td>\n",
       "    </tr>\n",
       "  </tbody>\n",
       "</table>\n",
       "</div>"
      ],
      "text/plain": [
       "        Description Temperature  Humidity  Visibility          LastUpdate\n",
       "0     broken clouds      283.96        87        3.60 2021-03-18 20:14:24\n",
       "1     broken clouds      283.67        93        4.12 2021-03-18 21:04:39\n",
       "2  scattered clouds       282.9        87        5.66 2021-03-18 22:04:59\n",
       "3  scattered clouds      282.46        93        7.72 2021-03-18 23:00:44\n",
       "4  scattered clouds      282.43        87        6.17 2021-03-19 00:01:05\n",
       "5  scattered clouds      282.13        93        5.14 2021-03-19 01:01:27\n",
       "6     broken clouds      281.93        87        5.14 2021-03-19 02:01:50\n",
       "7        few clouds      281.23        87        3.60 2021-03-19 03:02:13\n",
       "8        few clouds      279.79        93        3.60 2021-03-19 04:02:38\n",
       "9        few clouds      279.74        93        3.09 2021-03-19 05:03:03"
      ]
     },
     "execution_count": 8,
     "metadata": {},
     "output_type": "execute_result"
    }
   ],
   "source": [
    "df_weather.head(10)"
   ]
  },
  {
   "cell_type": "markdown",
   "metadata": {},
   "source": [
    "#### Get the datatypes"
   ]
  },
  {
   "cell_type": "code",
   "execution_count": 9,
   "metadata": {},
   "outputs": [
    {
     "data": {
      "text/plain": [
       "Number                          int64\n",
       "AvailableBikeStands             int64\n",
       "AvailableBikes                  int64\n",
       "LastUpdate             datetime64[ns]\n",
       "dtype: object"
      ]
     },
     "execution_count": 9,
     "metadata": {},
     "output_type": "execute_result"
    }
   ],
   "source": [
    "df_stations.dtypes"
   ]
  },
  {
   "cell_type": "code",
   "execution_count": 10,
   "metadata": {},
   "outputs": [
    {
     "data": {
      "text/plain": [
       "Description            object\n",
       "Temperature            object\n",
       "Humidity                int64\n",
       "Visibility            float64\n",
       "LastUpdate     datetime64[ns]\n",
       "dtype: object"
      ]
     },
     "execution_count": 10,
     "metadata": {},
     "output_type": "execute_result"
    }
   ],
   "source": [
    "df_weather.dtypes"
   ]
  },
  {
   "cell_type": "markdown",
   "metadata": {},
   "source": [
    "### Create a new column equal to the time rounded to the nearest Hour"
   ]
  },
  {
   "cell_type": "code",
   "execution_count": 11,
   "metadata": {},
   "outputs": [],
   "source": [
    "df_stations[\"dayHour\"]=df_stations[\"LastUpdate\"].dt.round(\"H\")"
   ]
  },
  {
   "cell_type": "code",
   "execution_count": 12,
   "metadata": {},
   "outputs": [
    {
     "data": {
      "text/html": [
       "<div>\n",
       "<style scoped>\n",
       "    .dataframe tbody tr th:only-of-type {\n",
       "        vertical-align: middle;\n",
       "    }\n",
       "\n",
       "    .dataframe tbody tr th {\n",
       "        vertical-align: top;\n",
       "    }\n",
       "\n",
       "    .dataframe thead th {\n",
       "        text-align: right;\n",
       "    }\n",
       "</style>\n",
       "<table border=\"1\" class=\"dataframe\">\n",
       "  <thead>\n",
       "    <tr style=\"text-align: right;\">\n",
       "      <th></th>\n",
       "      <th>Number</th>\n",
       "      <th>AvailableBikeStands</th>\n",
       "      <th>AvailableBikes</th>\n",
       "      <th>LastUpdate</th>\n",
       "      <th>dayHour</th>\n",
       "    </tr>\n",
       "  </thead>\n",
       "  <tbody>\n",
       "    <tr>\n",
       "      <th>0</th>\n",
       "      <td>42</td>\n",
       "      <td>15</td>\n",
       "      <td>15</td>\n",
       "      <td>2021-03-18 20:07:03</td>\n",
       "      <td>2021-03-18 20:00:00</td>\n",
       "    </tr>\n",
       "    <tr>\n",
       "      <th>1</th>\n",
       "      <td>30</td>\n",
       "      <td>7</td>\n",
       "      <td>13</td>\n",
       "      <td>2021-03-18 20:04:17</td>\n",
       "      <td>2021-03-18 20:00:00</td>\n",
       "    </tr>\n",
       "    <tr>\n",
       "      <th>2</th>\n",
       "      <td>54</td>\n",
       "      <td>14</td>\n",
       "      <td>19</td>\n",
       "      <td>2021-03-18 20:08:02</td>\n",
       "      <td>2021-03-18 20:00:00</td>\n",
       "    </tr>\n",
       "    <tr>\n",
       "      <th>3</th>\n",
       "      <td>108</td>\n",
       "      <td>35</td>\n",
       "      <td>5</td>\n",
       "      <td>2021-03-18 20:12:48</td>\n",
       "      <td>2021-03-18 20:00:00</td>\n",
       "    </tr>\n",
       "    <tr>\n",
       "      <th>4</th>\n",
       "      <td>56</td>\n",
       "      <td>23</td>\n",
       "      <td>16</td>\n",
       "      <td>2021-03-18 20:12:48</td>\n",
       "      <td>2021-03-18 20:00:00</td>\n",
       "    </tr>\n",
       "    <tr>\n",
       "      <th>5</th>\n",
       "      <td>6</td>\n",
       "      <td>20</td>\n",
       "      <td>0</td>\n",
       "      <td>2021-03-18 20:04:11</td>\n",
       "      <td>2021-03-18 20:00:00</td>\n",
       "    </tr>\n",
       "    <tr>\n",
       "      <th>6</th>\n",
       "      <td>18</td>\n",
       "      <td>18</td>\n",
       "      <td>12</td>\n",
       "      <td>2021-03-18 20:08:10</td>\n",
       "      <td>2021-03-18 20:00:00</td>\n",
       "    </tr>\n",
       "    <tr>\n",
       "      <th>7</th>\n",
       "      <td>32</td>\n",
       "      <td>17</td>\n",
       "      <td>13</td>\n",
       "      <td>2021-03-18 20:09:20</td>\n",
       "      <td>2021-03-18 20:00:00</td>\n",
       "    </tr>\n",
       "    <tr>\n",
       "      <th>8</th>\n",
       "      <td>52</td>\n",
       "      <td>25</td>\n",
       "      <td>7</td>\n",
       "      <td>2021-03-18 20:11:34</td>\n",
       "      <td>2021-03-18 20:00:00</td>\n",
       "    </tr>\n",
       "    <tr>\n",
       "      <th>9</th>\n",
       "      <td>48</td>\n",
       "      <td>24</td>\n",
       "      <td>16</td>\n",
       "      <td>2021-03-18 20:11:25</td>\n",
       "      <td>2021-03-18 20:00:00</td>\n",
       "    </tr>\n",
       "    <tr>\n",
       "      <th>10</th>\n",
       "      <td>13</td>\n",
       "      <td>25</td>\n",
       "      <td>5</td>\n",
       "      <td>2021-03-18 20:11:01</td>\n",
       "      <td>2021-03-18 20:00:00</td>\n",
       "    </tr>\n",
       "    <tr>\n",
       "      <th>11</th>\n",
       "      <td>43</td>\n",
       "      <td>13</td>\n",
       "      <td>17</td>\n",
       "      <td>2021-03-18 20:07:07</td>\n",
       "      <td>2021-03-18 20:00:00</td>\n",
       "    </tr>\n",
       "    <tr>\n",
       "      <th>12</th>\n",
       "      <td>31</td>\n",
       "      <td>19</td>\n",
       "      <td>1</td>\n",
       "      <td>2021-03-18 20:05:46</td>\n",
       "      <td>2021-03-18 20:00:00</td>\n",
       "    </tr>\n",
       "    <tr>\n",
       "      <th>13</th>\n",
       "      <td>98</td>\n",
       "      <td>38</td>\n",
       "      <td>2</td>\n",
       "      <td>2021-03-18 20:08:21</td>\n",
       "      <td>2021-03-18 20:00:00</td>\n",
       "    </tr>\n",
       "    <tr>\n",
       "      <th>14</th>\n",
       "      <td>23</td>\n",
       "      <td>22</td>\n",
       "      <td>8</td>\n",
       "      <td>2021-03-18 20:07:06</td>\n",
       "      <td>2021-03-18 20:00:00</td>\n",
       "    </tr>\n",
       "    <tr>\n",
       "      <th>15</th>\n",
       "      <td>106</td>\n",
       "      <td>33</td>\n",
       "      <td>7</td>\n",
       "      <td>2021-03-18 20:12:16</td>\n",
       "      <td>2021-03-18 20:00:00</td>\n",
       "    </tr>\n",
       "    <tr>\n",
       "      <th>16</th>\n",
       "      <td>112</td>\n",
       "      <td>1</td>\n",
       "      <td>29</td>\n",
       "      <td>2021-03-18 20:11:36</td>\n",
       "      <td>2021-03-18 20:00:00</td>\n",
       "    </tr>\n",
       "    <tr>\n",
       "      <th>17</th>\n",
       "      <td>68</td>\n",
       "      <td>18</td>\n",
       "      <td>22</td>\n",
       "      <td>2021-03-18 20:10:56</td>\n",
       "      <td>2021-03-18 20:00:00</td>\n",
       "    </tr>\n",
       "    <tr>\n",
       "      <th>18</th>\n",
       "      <td>74</td>\n",
       "      <td>20</td>\n",
       "      <td>10</td>\n",
       "      <td>2021-03-18 20:12:39</td>\n",
       "      <td>2021-03-18 20:00:00</td>\n",
       "    </tr>\n",
       "    <tr>\n",
       "      <th>19</th>\n",
       "      <td>87</td>\n",
       "      <td>14</td>\n",
       "      <td>24</td>\n",
       "      <td>2021-03-18 20:08:28</td>\n",
       "      <td>2021-03-18 20:00:00</td>\n",
       "    </tr>\n",
       "  </tbody>\n",
       "</table>\n",
       "</div>"
      ],
      "text/plain": [
       "    Number  AvailableBikeStands  AvailableBikes          LastUpdate  \\\n",
       "0       42                   15              15 2021-03-18 20:07:03   \n",
       "1       30                    7              13 2021-03-18 20:04:17   \n",
       "2       54                   14              19 2021-03-18 20:08:02   \n",
       "3      108                   35               5 2021-03-18 20:12:48   \n",
       "4       56                   23              16 2021-03-18 20:12:48   \n",
       "5        6                   20               0 2021-03-18 20:04:11   \n",
       "6       18                   18              12 2021-03-18 20:08:10   \n",
       "7       32                   17              13 2021-03-18 20:09:20   \n",
       "8       52                   25               7 2021-03-18 20:11:34   \n",
       "9       48                   24              16 2021-03-18 20:11:25   \n",
       "10      13                   25               5 2021-03-18 20:11:01   \n",
       "11      43                   13              17 2021-03-18 20:07:07   \n",
       "12      31                   19               1 2021-03-18 20:05:46   \n",
       "13      98                   38               2 2021-03-18 20:08:21   \n",
       "14      23                   22               8 2021-03-18 20:07:06   \n",
       "15     106                   33               7 2021-03-18 20:12:16   \n",
       "16     112                    1              29 2021-03-18 20:11:36   \n",
       "17      68                   18              22 2021-03-18 20:10:56   \n",
       "18      74                   20              10 2021-03-18 20:12:39   \n",
       "19      87                   14              24 2021-03-18 20:08:28   \n",
       "\n",
       "               dayHour  \n",
       "0  2021-03-18 20:00:00  \n",
       "1  2021-03-18 20:00:00  \n",
       "2  2021-03-18 20:00:00  \n",
       "3  2021-03-18 20:00:00  \n",
       "4  2021-03-18 20:00:00  \n",
       "5  2021-03-18 20:00:00  \n",
       "6  2021-03-18 20:00:00  \n",
       "7  2021-03-18 20:00:00  \n",
       "8  2021-03-18 20:00:00  \n",
       "9  2021-03-18 20:00:00  \n",
       "10 2021-03-18 20:00:00  \n",
       "11 2021-03-18 20:00:00  \n",
       "12 2021-03-18 20:00:00  \n",
       "13 2021-03-18 20:00:00  \n",
       "14 2021-03-18 20:00:00  \n",
       "15 2021-03-18 20:00:00  \n",
       "16 2021-03-18 20:00:00  \n",
       "17 2021-03-18 20:00:00  \n",
       "18 2021-03-18 20:00:00  \n",
       "19 2021-03-18 20:00:00  "
      ]
     },
     "execution_count": 12,
     "metadata": {},
     "output_type": "execute_result"
    }
   ],
   "source": [
    "df_stations.head(20)"
   ]
  },
  {
   "cell_type": "code",
   "execution_count": 13,
   "metadata": {},
   "outputs": [
    {
     "data": {
      "text/plain": [
       "Number                          int64\n",
       "AvailableBikeStands             int64\n",
       "AvailableBikes                  int64\n",
       "LastUpdate             datetime64[ns]\n",
       "dayHour                datetime64[ns]\n",
       "dtype: object"
      ]
     },
     "execution_count": 13,
     "metadata": {},
     "output_type": "execute_result"
    }
   ],
   "source": [
    "df_stations.dtypes"
   ]
  },
  {
   "cell_type": "markdown",
   "metadata": {},
   "source": [
    "### Create a new column equal to the time rounded to the nearest Hour but for the weather\n",
    "\n",
    "(to match the times)"
   ]
  },
  {
   "cell_type": "code",
   "execution_count": 14,
   "metadata": {},
   "outputs": [],
   "source": [
    "df_weather[\"dayHour\"]=df_weather[\"LastUpdate\"].dt.round(\"H\")"
   ]
  },
  {
   "cell_type": "code",
   "execution_count": 15,
   "metadata": {},
   "outputs": [
    {
     "data": {
      "text/html": [
       "<div>\n",
       "<style scoped>\n",
       "    .dataframe tbody tr th:only-of-type {\n",
       "        vertical-align: middle;\n",
       "    }\n",
       "\n",
       "    .dataframe tbody tr th {\n",
       "        vertical-align: top;\n",
       "    }\n",
       "\n",
       "    .dataframe thead th {\n",
       "        text-align: right;\n",
       "    }\n",
       "</style>\n",
       "<table border=\"1\" class=\"dataframe\">\n",
       "  <thead>\n",
       "    <tr style=\"text-align: right;\">\n",
       "      <th></th>\n",
       "      <th>Description</th>\n",
       "      <th>Temperature</th>\n",
       "      <th>Humidity</th>\n",
       "      <th>Visibility</th>\n",
       "      <th>LastUpdate</th>\n",
       "      <th>dayHour</th>\n",
       "    </tr>\n",
       "  </thead>\n",
       "  <tbody>\n",
       "    <tr>\n",
       "      <th>0</th>\n",
       "      <td>broken clouds</td>\n",
       "      <td>283.96</td>\n",
       "      <td>87</td>\n",
       "      <td>3.60</td>\n",
       "      <td>2021-03-18 20:14:24</td>\n",
       "      <td>2021-03-18 20:00:00</td>\n",
       "    </tr>\n",
       "    <tr>\n",
       "      <th>1</th>\n",
       "      <td>broken clouds</td>\n",
       "      <td>283.67</td>\n",
       "      <td>93</td>\n",
       "      <td>4.12</td>\n",
       "      <td>2021-03-18 21:04:39</td>\n",
       "      <td>2021-03-18 21:00:00</td>\n",
       "    </tr>\n",
       "    <tr>\n",
       "      <th>2</th>\n",
       "      <td>scattered clouds</td>\n",
       "      <td>282.9</td>\n",
       "      <td>87</td>\n",
       "      <td>5.66</td>\n",
       "      <td>2021-03-18 22:04:59</td>\n",
       "      <td>2021-03-18 22:00:00</td>\n",
       "    </tr>\n",
       "    <tr>\n",
       "      <th>3</th>\n",
       "      <td>scattered clouds</td>\n",
       "      <td>282.46</td>\n",
       "      <td>93</td>\n",
       "      <td>7.72</td>\n",
       "      <td>2021-03-18 23:00:44</td>\n",
       "      <td>2021-03-18 23:00:00</td>\n",
       "    </tr>\n",
       "    <tr>\n",
       "      <th>4</th>\n",
       "      <td>scattered clouds</td>\n",
       "      <td>282.43</td>\n",
       "      <td>87</td>\n",
       "      <td>6.17</td>\n",
       "      <td>2021-03-19 00:01:05</td>\n",
       "      <td>2021-03-19 00:00:00</td>\n",
       "    </tr>\n",
       "    <tr>\n",
       "      <th>5</th>\n",
       "      <td>scattered clouds</td>\n",
       "      <td>282.13</td>\n",
       "      <td>93</td>\n",
       "      <td>5.14</td>\n",
       "      <td>2021-03-19 01:01:27</td>\n",
       "      <td>2021-03-19 01:00:00</td>\n",
       "    </tr>\n",
       "    <tr>\n",
       "      <th>6</th>\n",
       "      <td>broken clouds</td>\n",
       "      <td>281.93</td>\n",
       "      <td>87</td>\n",
       "      <td>5.14</td>\n",
       "      <td>2021-03-19 02:01:50</td>\n",
       "      <td>2021-03-19 02:00:00</td>\n",
       "    </tr>\n",
       "    <tr>\n",
       "      <th>7</th>\n",
       "      <td>few clouds</td>\n",
       "      <td>281.23</td>\n",
       "      <td>87</td>\n",
       "      <td>3.60</td>\n",
       "      <td>2021-03-19 03:02:13</td>\n",
       "      <td>2021-03-19 03:00:00</td>\n",
       "    </tr>\n",
       "    <tr>\n",
       "      <th>8</th>\n",
       "      <td>few clouds</td>\n",
       "      <td>279.79</td>\n",
       "      <td>93</td>\n",
       "      <td>3.60</td>\n",
       "      <td>2021-03-19 04:02:38</td>\n",
       "      <td>2021-03-19 04:00:00</td>\n",
       "    </tr>\n",
       "    <tr>\n",
       "      <th>9</th>\n",
       "      <td>few clouds</td>\n",
       "      <td>279.74</td>\n",
       "      <td>93</td>\n",
       "      <td>3.09</td>\n",
       "      <td>2021-03-19 05:03:03</td>\n",
       "      <td>2021-03-19 05:00:00</td>\n",
       "    </tr>\n",
       "  </tbody>\n",
       "</table>\n",
       "</div>"
      ],
      "text/plain": [
       "        Description Temperature  Humidity  Visibility          LastUpdate  \\\n",
       "0     broken clouds      283.96        87        3.60 2021-03-18 20:14:24   \n",
       "1     broken clouds      283.67        93        4.12 2021-03-18 21:04:39   \n",
       "2  scattered clouds       282.9        87        5.66 2021-03-18 22:04:59   \n",
       "3  scattered clouds      282.46        93        7.72 2021-03-18 23:00:44   \n",
       "4  scattered clouds      282.43        87        6.17 2021-03-19 00:01:05   \n",
       "5  scattered clouds      282.13        93        5.14 2021-03-19 01:01:27   \n",
       "6     broken clouds      281.93        87        5.14 2021-03-19 02:01:50   \n",
       "7        few clouds      281.23        87        3.60 2021-03-19 03:02:13   \n",
       "8        few clouds      279.79        93        3.60 2021-03-19 04:02:38   \n",
       "9        few clouds      279.74        93        3.09 2021-03-19 05:03:03   \n",
       "\n",
       "              dayHour  \n",
       "0 2021-03-18 20:00:00  \n",
       "1 2021-03-18 21:00:00  \n",
       "2 2021-03-18 22:00:00  \n",
       "3 2021-03-18 23:00:00  \n",
       "4 2021-03-19 00:00:00  \n",
       "5 2021-03-19 01:00:00  \n",
       "6 2021-03-19 02:00:00  \n",
       "7 2021-03-19 03:00:00  \n",
       "8 2021-03-19 04:00:00  \n",
       "9 2021-03-19 05:00:00  "
      ]
     },
     "execution_count": 15,
     "metadata": {},
     "output_type": "execute_result"
    }
   ],
   "source": [
    "df_weather.head(10)"
   ]
  },
  {
   "cell_type": "code",
   "execution_count": 16,
   "metadata": {},
   "outputs": [
    {
     "data": {
      "text/plain": [
       "Description            object\n",
       "Temperature            object\n",
       "Humidity                int64\n",
       "Visibility            float64\n",
       "LastUpdate     datetime64[ns]\n",
       "dayHour        datetime64[ns]\n",
       "dtype: object"
      ]
     },
     "execution_count": 16,
     "metadata": {},
     "output_type": "execute_result"
    }
   ],
   "source": [
    "df_weather.dtypes"
   ]
  },
  {
   "cell_type": "markdown",
   "metadata": {},
   "source": [
    "### Drop the duplicates"
   ]
  },
  {
   "cell_type": "code",
   "execution_count": 17,
   "metadata": {
    "scrolled": true
   },
   "outputs": [
    {
     "data": {
      "text/html": [
       "<div>\n",
       "<style scoped>\n",
       "    .dataframe tbody tr th:only-of-type {\n",
       "        vertical-align: middle;\n",
       "    }\n",
       "\n",
       "    .dataframe tbody tr th {\n",
       "        vertical-align: top;\n",
       "    }\n",
       "\n",
       "    .dataframe thead th {\n",
       "        text-align: right;\n",
       "    }\n",
       "</style>\n",
       "<table border=\"1\" class=\"dataframe\">\n",
       "  <thead>\n",
       "    <tr style=\"text-align: right;\">\n",
       "      <th></th>\n",
       "      <th>Description</th>\n",
       "      <th>Temperature</th>\n",
       "      <th>Humidity</th>\n",
       "      <th>Visibility</th>\n",
       "      <th>LastUpdate</th>\n",
       "      <th>dayHour</th>\n",
       "    </tr>\n",
       "  </thead>\n",
       "  <tbody>\n",
       "    <tr>\n",
       "      <th>0</th>\n",
       "      <td>broken clouds</td>\n",
       "      <td>283.96</td>\n",
       "      <td>87</td>\n",
       "      <td>3.60</td>\n",
       "      <td>2021-03-18 20:14:24</td>\n",
       "      <td>2021-03-18 20:00:00</td>\n",
       "    </tr>\n",
       "    <tr>\n",
       "      <th>1</th>\n",
       "      <td>broken clouds</td>\n",
       "      <td>283.67</td>\n",
       "      <td>93</td>\n",
       "      <td>4.12</td>\n",
       "      <td>2021-03-18 21:04:39</td>\n",
       "      <td>2021-03-18 21:00:00</td>\n",
       "    </tr>\n",
       "    <tr>\n",
       "      <th>2</th>\n",
       "      <td>scattered clouds</td>\n",
       "      <td>282.9</td>\n",
       "      <td>87</td>\n",
       "      <td>5.66</td>\n",
       "      <td>2021-03-18 22:04:59</td>\n",
       "      <td>2021-03-18 22:00:00</td>\n",
       "    </tr>\n",
       "    <tr>\n",
       "      <th>3</th>\n",
       "      <td>scattered clouds</td>\n",
       "      <td>282.46</td>\n",
       "      <td>93</td>\n",
       "      <td>7.72</td>\n",
       "      <td>2021-03-18 23:00:44</td>\n",
       "      <td>2021-03-18 23:00:00</td>\n",
       "    </tr>\n",
       "    <tr>\n",
       "      <th>4</th>\n",
       "      <td>scattered clouds</td>\n",
       "      <td>282.43</td>\n",
       "      <td>87</td>\n",
       "      <td>6.17</td>\n",
       "      <td>2021-03-19 00:01:05</td>\n",
       "      <td>2021-03-19 00:00:00</td>\n",
       "    </tr>\n",
       "    <tr>\n",
       "      <th>...</th>\n",
       "      <td>...</td>\n",
       "      <td>...</td>\n",
       "      <td>...</td>\n",
       "      <td>...</td>\n",
       "      <td>...</td>\n",
       "      <td>...</td>\n",
       "    </tr>\n",
       "    <tr>\n",
       "      <th>349</th>\n",
       "      <td>broken clouds</td>\n",
       "      <td>279.71</td>\n",
       "      <td>81</td>\n",
       "      <td>6.17</td>\n",
       "      <td>2021-04-02 09:00:37</td>\n",
       "      <td>2021-04-02 09:00:00</td>\n",
       "    </tr>\n",
       "    <tr>\n",
       "      <th>350</th>\n",
       "      <td>broken clouds</td>\n",
       "      <td>279.76</td>\n",
       "      <td>75</td>\n",
       "      <td>6.69</td>\n",
       "      <td>2021-04-02 10:04:58</td>\n",
       "      <td>2021-04-02 10:00:00</td>\n",
       "    </tr>\n",
       "    <tr>\n",
       "      <th>351</th>\n",
       "      <td>broken clouds</td>\n",
       "      <td>280.25</td>\n",
       "      <td>70</td>\n",
       "      <td>5.66</td>\n",
       "      <td>2021-04-02 11:03:59</td>\n",
       "      <td>2021-04-02 11:00:00</td>\n",
       "    </tr>\n",
       "    <tr>\n",
       "      <th>352</th>\n",
       "      <td>broken clouds</td>\n",
       "      <td>280.84</td>\n",
       "      <td>71</td>\n",
       "      <td>6.17</td>\n",
       "      <td>2021-04-02 12:03:01</td>\n",
       "      <td>2021-04-02 12:00:00</td>\n",
       "    </tr>\n",
       "    <tr>\n",
       "      <th>353</th>\n",
       "      <td>scattered clouds</td>\n",
       "      <td>281.68</td>\n",
       "      <td>76</td>\n",
       "      <td>4.63</td>\n",
       "      <td>2021-04-02 13:02:03</td>\n",
       "      <td>2021-04-02 13:00:00</td>\n",
       "    </tr>\n",
       "  </tbody>\n",
       "</table>\n",
       "<p>354 rows × 6 columns</p>\n",
       "</div>"
      ],
      "text/plain": [
       "          Description Temperature  Humidity  Visibility          LastUpdate  \\\n",
       "0       broken clouds      283.96        87        3.60 2021-03-18 20:14:24   \n",
       "1       broken clouds      283.67        93        4.12 2021-03-18 21:04:39   \n",
       "2    scattered clouds       282.9        87        5.66 2021-03-18 22:04:59   \n",
       "3    scattered clouds      282.46        93        7.72 2021-03-18 23:00:44   \n",
       "4    scattered clouds      282.43        87        6.17 2021-03-19 00:01:05   \n",
       "..                ...         ...       ...         ...                 ...   \n",
       "349     broken clouds      279.71        81        6.17 2021-04-02 09:00:37   \n",
       "350     broken clouds      279.76        75        6.69 2021-04-02 10:04:58   \n",
       "351     broken clouds      280.25        70        5.66 2021-04-02 11:03:59   \n",
       "352     broken clouds      280.84        71        6.17 2021-04-02 12:03:01   \n",
       "353  scattered clouds      281.68        76        4.63 2021-04-02 13:02:03   \n",
       "\n",
       "                dayHour  \n",
       "0   2021-03-18 20:00:00  \n",
       "1   2021-03-18 21:00:00  \n",
       "2   2021-03-18 22:00:00  \n",
       "3   2021-03-18 23:00:00  \n",
       "4   2021-03-19 00:00:00  \n",
       "..                  ...  \n",
       "349 2021-04-02 09:00:00  \n",
       "350 2021-04-02 10:00:00  \n",
       "351 2021-04-02 11:00:00  \n",
       "352 2021-04-02 12:00:00  \n",
       "353 2021-04-02 13:00:00  \n",
       "\n",
       "[354 rows x 6 columns]"
      ]
     },
     "execution_count": 17,
     "metadata": {},
     "output_type": "execute_result"
    }
   ],
   "source": [
    "df_weather.drop_duplicates(keep=False)"
   ]
  },
  {
   "cell_type": "code",
   "execution_count": 18,
   "metadata": {},
   "outputs": [
    {
     "data": {
      "text/plain": [
       "(354, 6)"
      ]
     },
     "execution_count": 18,
     "metadata": {},
     "output_type": "execute_result"
    }
   ],
   "source": [
    "df_weather.shape"
   ]
  },
  {
   "cell_type": "markdown",
   "metadata": {},
   "source": [
    "Turns out there are no duplicates, high five yourself for good database and scraper design"
   ]
  },
  {
   "cell_type": "markdown",
   "metadata": {},
   "source": [
    "### Merge the two dataframes on the new dayHour column"
   ]
  },
  {
   "cell_type": "code",
   "execution_count": 19,
   "metadata": {},
   "outputs": [],
   "source": [
    "train_data=pd.merge(df_stations,\n",
    "                   df_weather,\n",
    "                   on =\"dayHour\")"
   ]
  },
  {
   "cell_type": "markdown",
   "metadata": {},
   "source": [
    "#### Explore the new dataframe"
   ]
  },
  {
   "cell_type": "code",
   "execution_count": 20,
   "metadata": {},
   "outputs": [
    {
     "data": {
      "text/plain": [
       "(38522, 10)"
      ]
     },
     "execution_count": 20,
     "metadata": {},
     "output_type": "execute_result"
    }
   ],
   "source": [
    "train_data.shape"
   ]
  },
  {
   "cell_type": "code",
   "execution_count": 21,
   "metadata": {},
   "outputs": [
    {
     "data": {
      "text/html": [
       "<div>\n",
       "<style scoped>\n",
       "    .dataframe tbody tr th:only-of-type {\n",
       "        vertical-align: middle;\n",
       "    }\n",
       "\n",
       "    .dataframe tbody tr th {\n",
       "        vertical-align: top;\n",
       "    }\n",
       "\n",
       "    .dataframe thead th {\n",
       "        text-align: right;\n",
       "    }\n",
       "</style>\n",
       "<table border=\"1\" class=\"dataframe\">\n",
       "  <thead>\n",
       "    <tr style=\"text-align: right;\">\n",
       "      <th></th>\n",
       "      <th>Number</th>\n",
       "      <th>AvailableBikeStands</th>\n",
       "      <th>AvailableBikes</th>\n",
       "      <th>LastUpdate_x</th>\n",
       "      <th>dayHour</th>\n",
       "      <th>Description</th>\n",
       "      <th>Temperature</th>\n",
       "      <th>Humidity</th>\n",
       "      <th>Visibility</th>\n",
       "      <th>LastUpdate_y</th>\n",
       "    </tr>\n",
       "  </thead>\n",
       "  <tbody>\n",
       "    <tr>\n",
       "      <th>0</th>\n",
       "      <td>42</td>\n",
       "      <td>15</td>\n",
       "      <td>15</td>\n",
       "      <td>2021-03-18 20:07:03</td>\n",
       "      <td>2021-03-18 20:00:00</td>\n",
       "      <td>broken clouds</td>\n",
       "      <td>283.96</td>\n",
       "      <td>87</td>\n",
       "      <td>3.6</td>\n",
       "      <td>2021-03-18 20:14:24</td>\n",
       "    </tr>\n",
       "    <tr>\n",
       "      <th>1</th>\n",
       "      <td>30</td>\n",
       "      <td>7</td>\n",
       "      <td>13</td>\n",
       "      <td>2021-03-18 20:04:17</td>\n",
       "      <td>2021-03-18 20:00:00</td>\n",
       "      <td>broken clouds</td>\n",
       "      <td>283.96</td>\n",
       "      <td>87</td>\n",
       "      <td>3.6</td>\n",
       "      <td>2021-03-18 20:14:24</td>\n",
       "    </tr>\n",
       "    <tr>\n",
       "      <th>2</th>\n",
       "      <td>54</td>\n",
       "      <td>14</td>\n",
       "      <td>19</td>\n",
       "      <td>2021-03-18 20:08:02</td>\n",
       "      <td>2021-03-18 20:00:00</td>\n",
       "      <td>broken clouds</td>\n",
       "      <td>283.96</td>\n",
       "      <td>87</td>\n",
       "      <td>3.6</td>\n",
       "      <td>2021-03-18 20:14:24</td>\n",
       "    </tr>\n",
       "    <tr>\n",
       "      <th>3</th>\n",
       "      <td>108</td>\n",
       "      <td>35</td>\n",
       "      <td>5</td>\n",
       "      <td>2021-03-18 20:12:48</td>\n",
       "      <td>2021-03-18 20:00:00</td>\n",
       "      <td>broken clouds</td>\n",
       "      <td>283.96</td>\n",
       "      <td>87</td>\n",
       "      <td>3.6</td>\n",
       "      <td>2021-03-18 20:14:24</td>\n",
       "    </tr>\n",
       "    <tr>\n",
       "      <th>4</th>\n",
       "      <td>56</td>\n",
       "      <td>23</td>\n",
       "      <td>16</td>\n",
       "      <td>2021-03-18 20:12:48</td>\n",
       "      <td>2021-03-18 20:00:00</td>\n",
       "      <td>broken clouds</td>\n",
       "      <td>283.96</td>\n",
       "      <td>87</td>\n",
       "      <td>3.6</td>\n",
       "      <td>2021-03-18 20:14:24</td>\n",
       "    </tr>\n",
       "    <tr>\n",
       "      <th>5</th>\n",
       "      <td>6</td>\n",
       "      <td>20</td>\n",
       "      <td>0</td>\n",
       "      <td>2021-03-18 20:04:11</td>\n",
       "      <td>2021-03-18 20:00:00</td>\n",
       "      <td>broken clouds</td>\n",
       "      <td>283.96</td>\n",
       "      <td>87</td>\n",
       "      <td>3.6</td>\n",
       "      <td>2021-03-18 20:14:24</td>\n",
       "    </tr>\n",
       "    <tr>\n",
       "      <th>6</th>\n",
       "      <td>18</td>\n",
       "      <td>18</td>\n",
       "      <td>12</td>\n",
       "      <td>2021-03-18 20:08:10</td>\n",
       "      <td>2021-03-18 20:00:00</td>\n",
       "      <td>broken clouds</td>\n",
       "      <td>283.96</td>\n",
       "      <td>87</td>\n",
       "      <td>3.6</td>\n",
       "      <td>2021-03-18 20:14:24</td>\n",
       "    </tr>\n",
       "    <tr>\n",
       "      <th>7</th>\n",
       "      <td>32</td>\n",
       "      <td>17</td>\n",
       "      <td>13</td>\n",
       "      <td>2021-03-18 20:09:20</td>\n",
       "      <td>2021-03-18 20:00:00</td>\n",
       "      <td>broken clouds</td>\n",
       "      <td>283.96</td>\n",
       "      <td>87</td>\n",
       "      <td>3.6</td>\n",
       "      <td>2021-03-18 20:14:24</td>\n",
       "    </tr>\n",
       "    <tr>\n",
       "      <th>8</th>\n",
       "      <td>52</td>\n",
       "      <td>25</td>\n",
       "      <td>7</td>\n",
       "      <td>2021-03-18 20:11:34</td>\n",
       "      <td>2021-03-18 20:00:00</td>\n",
       "      <td>broken clouds</td>\n",
       "      <td>283.96</td>\n",
       "      <td>87</td>\n",
       "      <td>3.6</td>\n",
       "      <td>2021-03-18 20:14:24</td>\n",
       "    </tr>\n",
       "    <tr>\n",
       "      <th>9</th>\n",
       "      <td>48</td>\n",
       "      <td>24</td>\n",
       "      <td>16</td>\n",
       "      <td>2021-03-18 20:11:25</td>\n",
       "      <td>2021-03-18 20:00:00</td>\n",
       "      <td>broken clouds</td>\n",
       "      <td>283.96</td>\n",
       "      <td>87</td>\n",
       "      <td>3.6</td>\n",
       "      <td>2021-03-18 20:14:24</td>\n",
       "    </tr>\n",
       "  </tbody>\n",
       "</table>\n",
       "</div>"
      ],
      "text/plain": [
       "   Number  AvailableBikeStands  AvailableBikes        LastUpdate_x  \\\n",
       "0      42                   15              15 2021-03-18 20:07:03   \n",
       "1      30                    7              13 2021-03-18 20:04:17   \n",
       "2      54                   14              19 2021-03-18 20:08:02   \n",
       "3     108                   35               5 2021-03-18 20:12:48   \n",
       "4      56                   23              16 2021-03-18 20:12:48   \n",
       "5       6                   20               0 2021-03-18 20:04:11   \n",
       "6      18                   18              12 2021-03-18 20:08:10   \n",
       "7      32                   17              13 2021-03-18 20:09:20   \n",
       "8      52                   25               7 2021-03-18 20:11:34   \n",
       "9      48                   24              16 2021-03-18 20:11:25   \n",
       "\n",
       "              dayHour    Description Temperature  Humidity  Visibility  \\\n",
       "0 2021-03-18 20:00:00  broken clouds      283.96        87         3.6   \n",
       "1 2021-03-18 20:00:00  broken clouds      283.96        87         3.6   \n",
       "2 2021-03-18 20:00:00  broken clouds      283.96        87         3.6   \n",
       "3 2021-03-18 20:00:00  broken clouds      283.96        87         3.6   \n",
       "4 2021-03-18 20:00:00  broken clouds      283.96        87         3.6   \n",
       "5 2021-03-18 20:00:00  broken clouds      283.96        87         3.6   \n",
       "6 2021-03-18 20:00:00  broken clouds      283.96        87         3.6   \n",
       "7 2021-03-18 20:00:00  broken clouds      283.96        87         3.6   \n",
       "8 2021-03-18 20:00:00  broken clouds      283.96        87         3.6   \n",
       "9 2021-03-18 20:00:00  broken clouds      283.96        87         3.6   \n",
       "\n",
       "         LastUpdate_y  \n",
       "0 2021-03-18 20:14:24  \n",
       "1 2021-03-18 20:14:24  \n",
       "2 2021-03-18 20:14:24  \n",
       "3 2021-03-18 20:14:24  \n",
       "4 2021-03-18 20:14:24  \n",
       "5 2021-03-18 20:14:24  \n",
       "6 2021-03-18 20:14:24  \n",
       "7 2021-03-18 20:14:24  \n",
       "8 2021-03-18 20:14:24  \n",
       "9 2021-03-18 20:14:24  "
      ]
     },
     "execution_count": 21,
     "metadata": {},
     "output_type": "execute_result"
    }
   ],
   "source": [
    "train_data.head(10)"
   ]
  },
  {
   "cell_type": "markdown",
   "metadata": {},
   "source": [
    "Drop the (now) outdate date columns"
   ]
  },
  {
   "cell_type": "code",
   "execution_count": 22,
   "metadata": {},
   "outputs": [],
   "source": [
    "train_data = train_data.drop(columns=[\"LastUpdate_x\",\"LastUpdate_y\"])"
   ]
  },
  {
   "cell_type": "code",
   "execution_count": 23,
   "metadata": {},
   "outputs": [
    {
     "data": {
      "text/html": [
       "<div>\n",
       "<style scoped>\n",
       "    .dataframe tbody tr th:only-of-type {\n",
       "        vertical-align: middle;\n",
       "    }\n",
       "\n",
       "    .dataframe tbody tr th {\n",
       "        vertical-align: top;\n",
       "    }\n",
       "\n",
       "    .dataframe thead th {\n",
       "        text-align: right;\n",
       "    }\n",
       "</style>\n",
       "<table border=\"1\" class=\"dataframe\">\n",
       "  <thead>\n",
       "    <tr style=\"text-align: right;\">\n",
       "      <th></th>\n",
       "      <th>Number</th>\n",
       "      <th>AvailableBikeStands</th>\n",
       "      <th>AvailableBikes</th>\n",
       "      <th>dayHour</th>\n",
       "      <th>Description</th>\n",
       "      <th>Temperature</th>\n",
       "      <th>Humidity</th>\n",
       "      <th>Visibility</th>\n",
       "    </tr>\n",
       "  </thead>\n",
       "  <tbody>\n",
       "    <tr>\n",
       "      <th>0</th>\n",
       "      <td>42</td>\n",
       "      <td>15</td>\n",
       "      <td>15</td>\n",
       "      <td>2021-03-18 20:00:00</td>\n",
       "      <td>broken clouds</td>\n",
       "      <td>283.96</td>\n",
       "      <td>87</td>\n",
       "      <td>3.6</td>\n",
       "    </tr>\n",
       "    <tr>\n",
       "      <th>1</th>\n",
       "      <td>30</td>\n",
       "      <td>7</td>\n",
       "      <td>13</td>\n",
       "      <td>2021-03-18 20:00:00</td>\n",
       "      <td>broken clouds</td>\n",
       "      <td>283.96</td>\n",
       "      <td>87</td>\n",
       "      <td>3.6</td>\n",
       "    </tr>\n",
       "    <tr>\n",
       "      <th>2</th>\n",
       "      <td>54</td>\n",
       "      <td>14</td>\n",
       "      <td>19</td>\n",
       "      <td>2021-03-18 20:00:00</td>\n",
       "      <td>broken clouds</td>\n",
       "      <td>283.96</td>\n",
       "      <td>87</td>\n",
       "      <td>3.6</td>\n",
       "    </tr>\n",
       "    <tr>\n",
       "      <th>3</th>\n",
       "      <td>108</td>\n",
       "      <td>35</td>\n",
       "      <td>5</td>\n",
       "      <td>2021-03-18 20:00:00</td>\n",
       "      <td>broken clouds</td>\n",
       "      <td>283.96</td>\n",
       "      <td>87</td>\n",
       "      <td>3.6</td>\n",
       "    </tr>\n",
       "    <tr>\n",
       "      <th>4</th>\n",
       "      <td>56</td>\n",
       "      <td>23</td>\n",
       "      <td>16</td>\n",
       "      <td>2021-03-18 20:00:00</td>\n",
       "      <td>broken clouds</td>\n",
       "      <td>283.96</td>\n",
       "      <td>87</td>\n",
       "      <td>3.6</td>\n",
       "    </tr>\n",
       "    <tr>\n",
       "      <th>5</th>\n",
       "      <td>6</td>\n",
       "      <td>20</td>\n",
       "      <td>0</td>\n",
       "      <td>2021-03-18 20:00:00</td>\n",
       "      <td>broken clouds</td>\n",
       "      <td>283.96</td>\n",
       "      <td>87</td>\n",
       "      <td>3.6</td>\n",
       "    </tr>\n",
       "    <tr>\n",
       "      <th>6</th>\n",
       "      <td>18</td>\n",
       "      <td>18</td>\n",
       "      <td>12</td>\n",
       "      <td>2021-03-18 20:00:00</td>\n",
       "      <td>broken clouds</td>\n",
       "      <td>283.96</td>\n",
       "      <td>87</td>\n",
       "      <td>3.6</td>\n",
       "    </tr>\n",
       "    <tr>\n",
       "      <th>7</th>\n",
       "      <td>32</td>\n",
       "      <td>17</td>\n",
       "      <td>13</td>\n",
       "      <td>2021-03-18 20:00:00</td>\n",
       "      <td>broken clouds</td>\n",
       "      <td>283.96</td>\n",
       "      <td>87</td>\n",
       "      <td>3.6</td>\n",
       "    </tr>\n",
       "    <tr>\n",
       "      <th>8</th>\n",
       "      <td>52</td>\n",
       "      <td>25</td>\n",
       "      <td>7</td>\n",
       "      <td>2021-03-18 20:00:00</td>\n",
       "      <td>broken clouds</td>\n",
       "      <td>283.96</td>\n",
       "      <td>87</td>\n",
       "      <td>3.6</td>\n",
       "    </tr>\n",
       "    <tr>\n",
       "      <th>9</th>\n",
       "      <td>48</td>\n",
       "      <td>24</td>\n",
       "      <td>16</td>\n",
       "      <td>2021-03-18 20:00:00</td>\n",
       "      <td>broken clouds</td>\n",
       "      <td>283.96</td>\n",
       "      <td>87</td>\n",
       "      <td>3.6</td>\n",
       "    </tr>\n",
       "  </tbody>\n",
       "</table>\n",
       "</div>"
      ],
      "text/plain": [
       "   Number  AvailableBikeStands  AvailableBikes             dayHour  \\\n",
       "0      42                   15              15 2021-03-18 20:00:00   \n",
       "1      30                    7              13 2021-03-18 20:00:00   \n",
       "2      54                   14              19 2021-03-18 20:00:00   \n",
       "3     108                   35               5 2021-03-18 20:00:00   \n",
       "4      56                   23              16 2021-03-18 20:00:00   \n",
       "5       6                   20               0 2021-03-18 20:00:00   \n",
       "6      18                   18              12 2021-03-18 20:00:00   \n",
       "7      32                   17              13 2021-03-18 20:00:00   \n",
       "8      52                   25               7 2021-03-18 20:00:00   \n",
       "9      48                   24              16 2021-03-18 20:00:00   \n",
       "\n",
       "     Description Temperature  Humidity  Visibility  \n",
       "0  broken clouds      283.96        87         3.6  \n",
       "1  broken clouds      283.96        87         3.6  \n",
       "2  broken clouds      283.96        87         3.6  \n",
       "3  broken clouds      283.96        87         3.6  \n",
       "4  broken clouds      283.96        87         3.6  \n",
       "5  broken clouds      283.96        87         3.6  \n",
       "6  broken clouds      283.96        87         3.6  \n",
       "7  broken clouds      283.96        87         3.6  \n",
       "8  broken clouds      283.96        87         3.6  \n",
       "9  broken clouds      283.96        87         3.6  "
      ]
     },
     "execution_count": 23,
     "metadata": {},
     "output_type": "execute_result"
    }
   ],
   "source": [
    "train_data.head(10)"
   ]
  },
  {
   "cell_type": "markdown",
   "metadata": {},
   "source": [
    "#### Get the value counts (and the unique values) for the weather description"
   ]
  },
  {
   "cell_type": "code",
   "execution_count": 24,
   "metadata": {},
   "outputs": [
    {
     "name": "stdout",
     "output_type": "stream",
     "text": [
      "broken clouds       21730\n",
      "scattered clouds     6762\n",
      "few clouds           4580\n",
      "overcast clouds      1744\n",
      "clear sky            1526\n",
      "light rain           1418\n",
      "moderate rain         544\n",
      "mist                  218\n",
      "Name: Description, dtype: int64\n"
     ]
    }
   ],
   "source": [
    "print(train_data[\"Description\"].value_counts())"
   ]
  },
  {
   "cell_type": "markdown",
   "metadata": {},
   "source": [
    "Create new columns (boolean) if cloudy or rainy"
   ]
  },
  {
   "cell_type": "code",
   "execution_count": 25,
   "metadata": {},
   "outputs": [],
   "source": [
    "train_data[\"rain\"]=train_data[\"Description\"].str.contains(\"rain\")\n",
    "train_data[\"cloudy\"]=train_data[\"Description\"].str.contains(\"clouds\")"
   ]
  },
  {
   "cell_type": "code",
   "execution_count": 26,
   "metadata": {},
   "outputs": [
    {
     "data": {
      "text/plain": [
       "True     34816\n",
       "False     3706\n",
       "Name: cloudy, dtype: int64"
      ]
     },
     "execution_count": 26,
     "metadata": {},
     "output_type": "execute_result"
    }
   ],
   "source": [
    "train_data[\"cloudy\"].value_counts()"
   ]
  },
  {
   "cell_type": "code",
   "execution_count": 27,
   "metadata": {},
   "outputs": [
    {
     "data": {
      "text/plain": [
       "False    36560\n",
       "True      1962\n",
       "Name: rain, dtype: int64"
      ]
     },
     "execution_count": 27,
     "metadata": {},
     "output_type": "execute_result"
    }
   ],
   "source": [
    "train_data[\"rain\"].value_counts()"
   ]
  },
  {
   "cell_type": "code",
   "execution_count": 28,
   "metadata": {},
   "outputs": [
    {
     "data": {
      "text/html": [
       "<div>\n",
       "<style scoped>\n",
       "    .dataframe tbody tr th:only-of-type {\n",
       "        vertical-align: middle;\n",
       "    }\n",
       "\n",
       "    .dataframe tbody tr th {\n",
       "        vertical-align: top;\n",
       "    }\n",
       "\n",
       "    .dataframe thead th {\n",
       "        text-align: right;\n",
       "    }\n",
       "</style>\n",
       "<table border=\"1\" class=\"dataframe\">\n",
       "  <thead>\n",
       "    <tr style=\"text-align: right;\">\n",
       "      <th></th>\n",
       "      <th>Number</th>\n",
       "      <th>AvailableBikeStands</th>\n",
       "      <th>AvailableBikes</th>\n",
       "      <th>dayHour</th>\n",
       "      <th>Description</th>\n",
       "      <th>Temperature</th>\n",
       "      <th>Humidity</th>\n",
       "      <th>Visibility</th>\n",
       "      <th>rain</th>\n",
       "      <th>cloudy</th>\n",
       "    </tr>\n",
       "  </thead>\n",
       "  <tbody>\n",
       "    <tr>\n",
       "      <th>0</th>\n",
       "      <td>42</td>\n",
       "      <td>15</td>\n",
       "      <td>15</td>\n",
       "      <td>2021-03-18 20:00:00</td>\n",
       "      <td>broken clouds</td>\n",
       "      <td>283.96</td>\n",
       "      <td>87</td>\n",
       "      <td>3.6</td>\n",
       "      <td>False</td>\n",
       "      <td>True</td>\n",
       "    </tr>\n",
       "    <tr>\n",
       "      <th>1</th>\n",
       "      <td>30</td>\n",
       "      <td>7</td>\n",
       "      <td>13</td>\n",
       "      <td>2021-03-18 20:00:00</td>\n",
       "      <td>broken clouds</td>\n",
       "      <td>283.96</td>\n",
       "      <td>87</td>\n",
       "      <td>3.6</td>\n",
       "      <td>False</td>\n",
       "      <td>True</td>\n",
       "    </tr>\n",
       "    <tr>\n",
       "      <th>2</th>\n",
       "      <td>54</td>\n",
       "      <td>14</td>\n",
       "      <td>19</td>\n",
       "      <td>2021-03-18 20:00:00</td>\n",
       "      <td>broken clouds</td>\n",
       "      <td>283.96</td>\n",
       "      <td>87</td>\n",
       "      <td>3.6</td>\n",
       "      <td>False</td>\n",
       "      <td>True</td>\n",
       "    </tr>\n",
       "    <tr>\n",
       "      <th>3</th>\n",
       "      <td>108</td>\n",
       "      <td>35</td>\n",
       "      <td>5</td>\n",
       "      <td>2021-03-18 20:00:00</td>\n",
       "      <td>broken clouds</td>\n",
       "      <td>283.96</td>\n",
       "      <td>87</td>\n",
       "      <td>3.6</td>\n",
       "      <td>False</td>\n",
       "      <td>True</td>\n",
       "    </tr>\n",
       "    <tr>\n",
       "      <th>4</th>\n",
       "      <td>56</td>\n",
       "      <td>23</td>\n",
       "      <td>16</td>\n",
       "      <td>2021-03-18 20:00:00</td>\n",
       "      <td>broken clouds</td>\n",
       "      <td>283.96</td>\n",
       "      <td>87</td>\n",
       "      <td>3.6</td>\n",
       "      <td>False</td>\n",
       "      <td>True</td>\n",
       "    </tr>\n",
       "    <tr>\n",
       "      <th>5</th>\n",
       "      <td>6</td>\n",
       "      <td>20</td>\n",
       "      <td>0</td>\n",
       "      <td>2021-03-18 20:00:00</td>\n",
       "      <td>broken clouds</td>\n",
       "      <td>283.96</td>\n",
       "      <td>87</td>\n",
       "      <td>3.6</td>\n",
       "      <td>False</td>\n",
       "      <td>True</td>\n",
       "    </tr>\n",
       "    <tr>\n",
       "      <th>6</th>\n",
       "      <td>18</td>\n",
       "      <td>18</td>\n",
       "      <td>12</td>\n",
       "      <td>2021-03-18 20:00:00</td>\n",
       "      <td>broken clouds</td>\n",
       "      <td>283.96</td>\n",
       "      <td>87</td>\n",
       "      <td>3.6</td>\n",
       "      <td>False</td>\n",
       "      <td>True</td>\n",
       "    </tr>\n",
       "    <tr>\n",
       "      <th>7</th>\n",
       "      <td>32</td>\n",
       "      <td>17</td>\n",
       "      <td>13</td>\n",
       "      <td>2021-03-18 20:00:00</td>\n",
       "      <td>broken clouds</td>\n",
       "      <td>283.96</td>\n",
       "      <td>87</td>\n",
       "      <td>3.6</td>\n",
       "      <td>False</td>\n",
       "      <td>True</td>\n",
       "    </tr>\n",
       "    <tr>\n",
       "      <th>8</th>\n",
       "      <td>52</td>\n",
       "      <td>25</td>\n",
       "      <td>7</td>\n",
       "      <td>2021-03-18 20:00:00</td>\n",
       "      <td>broken clouds</td>\n",
       "      <td>283.96</td>\n",
       "      <td>87</td>\n",
       "      <td>3.6</td>\n",
       "      <td>False</td>\n",
       "      <td>True</td>\n",
       "    </tr>\n",
       "    <tr>\n",
       "      <th>9</th>\n",
       "      <td>48</td>\n",
       "      <td>24</td>\n",
       "      <td>16</td>\n",
       "      <td>2021-03-18 20:00:00</td>\n",
       "      <td>broken clouds</td>\n",
       "      <td>283.96</td>\n",
       "      <td>87</td>\n",
       "      <td>3.6</td>\n",
       "      <td>False</td>\n",
       "      <td>True</td>\n",
       "    </tr>\n",
       "  </tbody>\n",
       "</table>\n",
       "</div>"
      ],
      "text/plain": [
       "   Number  AvailableBikeStands  AvailableBikes             dayHour  \\\n",
       "0      42                   15              15 2021-03-18 20:00:00   \n",
       "1      30                    7              13 2021-03-18 20:00:00   \n",
       "2      54                   14              19 2021-03-18 20:00:00   \n",
       "3     108                   35               5 2021-03-18 20:00:00   \n",
       "4      56                   23              16 2021-03-18 20:00:00   \n",
       "5       6                   20               0 2021-03-18 20:00:00   \n",
       "6      18                   18              12 2021-03-18 20:00:00   \n",
       "7      32                   17              13 2021-03-18 20:00:00   \n",
       "8      52                   25               7 2021-03-18 20:00:00   \n",
       "9      48                   24              16 2021-03-18 20:00:00   \n",
       "\n",
       "     Description Temperature  Humidity  Visibility   rain  cloudy  \n",
       "0  broken clouds      283.96        87         3.6  False    True  \n",
       "1  broken clouds      283.96        87         3.6  False    True  \n",
       "2  broken clouds      283.96        87         3.6  False    True  \n",
       "3  broken clouds      283.96        87         3.6  False    True  \n",
       "4  broken clouds      283.96        87         3.6  False    True  \n",
       "5  broken clouds      283.96        87         3.6  False    True  \n",
       "6  broken clouds      283.96        87         3.6  False    True  \n",
       "7  broken clouds      283.96        87         3.6  False    True  \n",
       "8  broken clouds      283.96        87         3.6  False    True  \n",
       "9  broken clouds      283.96        87         3.6  False    True  "
      ]
     },
     "execution_count": 28,
     "metadata": {},
     "output_type": "execute_result"
    }
   ],
   "source": [
    "train_data.head(10)"
   ]
  },
  {
   "cell_type": "code",
   "execution_count": 29,
   "metadata": {},
   "outputs": [],
   "source": [
    "train_data = train_data.drop(columns=[\"Description\"])"
   ]
  },
  {
   "cell_type": "code",
   "execution_count": 30,
   "metadata": {},
   "outputs": [
    {
     "data": {
      "text/html": [
       "<div>\n",
       "<style scoped>\n",
       "    .dataframe tbody tr th:only-of-type {\n",
       "        vertical-align: middle;\n",
       "    }\n",
       "\n",
       "    .dataframe tbody tr th {\n",
       "        vertical-align: top;\n",
       "    }\n",
       "\n",
       "    .dataframe thead th {\n",
       "        text-align: right;\n",
       "    }\n",
       "</style>\n",
       "<table border=\"1\" class=\"dataframe\">\n",
       "  <thead>\n",
       "    <tr style=\"text-align: right;\">\n",
       "      <th></th>\n",
       "      <th>Number</th>\n",
       "      <th>AvailableBikeStands</th>\n",
       "      <th>AvailableBikes</th>\n",
       "      <th>dayHour</th>\n",
       "      <th>Temperature</th>\n",
       "      <th>Humidity</th>\n",
       "      <th>Visibility</th>\n",
       "      <th>rain</th>\n",
       "      <th>cloudy</th>\n",
       "    </tr>\n",
       "  </thead>\n",
       "  <tbody>\n",
       "    <tr>\n",
       "      <th>0</th>\n",
       "      <td>42</td>\n",
       "      <td>15</td>\n",
       "      <td>15</td>\n",
       "      <td>2021-03-18 20:00:00</td>\n",
       "      <td>283.96</td>\n",
       "      <td>87</td>\n",
       "      <td>3.6</td>\n",
       "      <td>False</td>\n",
       "      <td>True</td>\n",
       "    </tr>\n",
       "    <tr>\n",
       "      <th>1</th>\n",
       "      <td>30</td>\n",
       "      <td>7</td>\n",
       "      <td>13</td>\n",
       "      <td>2021-03-18 20:00:00</td>\n",
       "      <td>283.96</td>\n",
       "      <td>87</td>\n",
       "      <td>3.6</td>\n",
       "      <td>False</td>\n",
       "      <td>True</td>\n",
       "    </tr>\n",
       "    <tr>\n",
       "      <th>2</th>\n",
       "      <td>54</td>\n",
       "      <td>14</td>\n",
       "      <td>19</td>\n",
       "      <td>2021-03-18 20:00:00</td>\n",
       "      <td>283.96</td>\n",
       "      <td>87</td>\n",
       "      <td>3.6</td>\n",
       "      <td>False</td>\n",
       "      <td>True</td>\n",
       "    </tr>\n",
       "    <tr>\n",
       "      <th>3</th>\n",
       "      <td>108</td>\n",
       "      <td>35</td>\n",
       "      <td>5</td>\n",
       "      <td>2021-03-18 20:00:00</td>\n",
       "      <td>283.96</td>\n",
       "      <td>87</td>\n",
       "      <td>3.6</td>\n",
       "      <td>False</td>\n",
       "      <td>True</td>\n",
       "    </tr>\n",
       "    <tr>\n",
       "      <th>4</th>\n",
       "      <td>56</td>\n",
       "      <td>23</td>\n",
       "      <td>16</td>\n",
       "      <td>2021-03-18 20:00:00</td>\n",
       "      <td>283.96</td>\n",
       "      <td>87</td>\n",
       "      <td>3.6</td>\n",
       "      <td>False</td>\n",
       "      <td>True</td>\n",
       "    </tr>\n",
       "  </tbody>\n",
       "</table>\n",
       "</div>"
      ],
      "text/plain": [
       "   Number  AvailableBikeStands  AvailableBikes             dayHour  \\\n",
       "0      42                   15              15 2021-03-18 20:00:00   \n",
       "1      30                    7              13 2021-03-18 20:00:00   \n",
       "2      54                   14              19 2021-03-18 20:00:00   \n",
       "3     108                   35               5 2021-03-18 20:00:00   \n",
       "4      56                   23              16 2021-03-18 20:00:00   \n",
       "\n",
       "  Temperature  Humidity  Visibility   rain  cloudy  \n",
       "0      283.96        87         3.6  False    True  \n",
       "1      283.96        87         3.6  False    True  \n",
       "2      283.96        87         3.6  False    True  \n",
       "3      283.96        87         3.6  False    True  \n",
       "4      283.96        87         3.6  False    True  "
      ]
     },
     "execution_count": 30,
     "metadata": {},
     "output_type": "execute_result"
    }
   ],
   "source": [
    "train_data.head()"
   ]
  },
  {
   "cell_type": "markdown",
   "metadata": {},
   "source": [
    "Get the value counts of the temperature (to make sure the data is accurate)"
   ]
  },
  {
   "cell_type": "code",
   "execution_count": 31,
   "metadata": {},
   "outputs": [
    {
     "data": {
      "text/plain": [
       "281.24    981\n",
       "281.08    436\n",
       "281.51    436\n",
       "281.18    328\n",
       "282.03    327\n",
       "         ... \n",
       "286.47    106\n",
       "286.23    104\n",
       "286.42    102\n",
       "286.09    100\n",
       "286.29     95\n",
       "Name: Temperature, Length: 277, dtype: int64"
      ]
     },
     "execution_count": 31,
     "metadata": {},
     "output_type": "execute_result"
    }
   ],
   "source": [
    "train_data[\"Temperature\"].value_counts()"
   ]
  },
  {
   "cell_type": "code",
   "execution_count": 32,
   "metadata": {},
   "outputs": [
    {
     "data": {
      "text/plain": [
       "Number                          int64\n",
       "AvailableBikeStands             int64\n",
       "AvailableBikes                  int64\n",
       "dayHour                datetime64[ns]\n",
       "Temperature                    object\n",
       "Humidity                        int64\n",
       "Visibility                    float64\n",
       "rain                             bool\n",
       "cloudy                           bool\n",
       "dtype: object"
      ]
     },
     "execution_count": 32,
     "metadata": {},
     "output_type": "execute_result"
    }
   ],
   "source": [
    "train_data.dtypes"
   ]
  },
  {
   "cell_type": "markdown",
   "metadata": {},
   "source": [
    "### Change temperature to celcius"
   ]
  },
  {
   "cell_type": "code",
   "execution_count": 33,
   "metadata": {},
   "outputs": [],
   "source": [
    "train_data[\"Temperature\"]=train_data[\"Temperature\"].astype(float) -273.15"
   ]
  },
  {
   "cell_type": "markdown",
   "metadata": {},
   "source": [
    "Create new column is weekday which is a boolean value indicating if the date is a saturday or sunday"
   ]
  },
  {
   "cell_type": "code",
   "execution_count": 34,
   "metadata": {},
   "outputs": [],
   "source": [
    "train_data[\"isWeekDay\"]=train_data[\"dayHour\"].dt.weekday"
   ]
  },
  {
   "cell_type": "code",
   "execution_count": 35,
   "metadata": {},
   "outputs": [
    {
     "data": {
      "text/plain": [
       "Number                          int64\n",
       "AvailableBikeStands             int64\n",
       "AvailableBikes                  int64\n",
       "dayHour                datetime64[ns]\n",
       "Temperature                   float64\n",
       "Humidity                        int64\n",
       "Visibility                    float64\n",
       "rain                             bool\n",
       "cloudy                           bool\n",
       "isWeekDay                       int64\n",
       "dtype: object"
      ]
     },
     "execution_count": 35,
     "metadata": {},
     "output_type": "execute_result"
    }
   ],
   "source": [
    "train_data.dtypes"
   ]
  },
  {
   "cell_type": "markdown",
   "metadata": {},
   "source": [
    "Sets true if is a saturday or sunday else false"
   ]
  },
  {
   "cell_type": "code",
   "execution_count": 36,
   "metadata": {
    "scrolled": true
   },
   "outputs": [],
   "source": [
    "train_data.replace({\"isWeekDay\":{6:True, 5:True, 4:False, 3:False, 2:False, 1:False, 0:False}},inplace=True)"
   ]
  },
  {
   "cell_type": "code",
   "execution_count": 37,
   "metadata": {},
   "outputs": [
    {
     "data": {
      "text/html": [
       "<div>\n",
       "<style scoped>\n",
       "    .dataframe tbody tr th:only-of-type {\n",
       "        vertical-align: middle;\n",
       "    }\n",
       "\n",
       "    .dataframe tbody tr th {\n",
       "        vertical-align: top;\n",
       "    }\n",
       "\n",
       "    .dataframe thead th {\n",
       "        text-align: right;\n",
       "    }\n",
       "</style>\n",
       "<table border=\"1\" class=\"dataframe\">\n",
       "  <thead>\n",
       "    <tr style=\"text-align: right;\">\n",
       "      <th></th>\n",
       "      <th>Number</th>\n",
       "      <th>AvailableBikeStands</th>\n",
       "      <th>AvailableBikes</th>\n",
       "      <th>dayHour</th>\n",
       "      <th>Temperature</th>\n",
       "      <th>Humidity</th>\n",
       "      <th>Visibility</th>\n",
       "      <th>rain</th>\n",
       "      <th>cloudy</th>\n",
       "      <th>isWeekDay</th>\n",
       "    </tr>\n",
       "  </thead>\n",
       "  <tbody>\n",
       "    <tr>\n",
       "      <th>0</th>\n",
       "      <td>42</td>\n",
       "      <td>15</td>\n",
       "      <td>15</td>\n",
       "      <td>2021-03-18 20:00:00</td>\n",
       "      <td>10.81</td>\n",
       "      <td>87</td>\n",
       "      <td>3.6</td>\n",
       "      <td>False</td>\n",
       "      <td>True</td>\n",
       "      <td>False</td>\n",
       "    </tr>\n",
       "    <tr>\n",
       "      <th>1</th>\n",
       "      <td>30</td>\n",
       "      <td>7</td>\n",
       "      <td>13</td>\n",
       "      <td>2021-03-18 20:00:00</td>\n",
       "      <td>10.81</td>\n",
       "      <td>87</td>\n",
       "      <td>3.6</td>\n",
       "      <td>False</td>\n",
       "      <td>True</td>\n",
       "      <td>False</td>\n",
       "    </tr>\n",
       "    <tr>\n",
       "      <th>2</th>\n",
       "      <td>54</td>\n",
       "      <td>14</td>\n",
       "      <td>19</td>\n",
       "      <td>2021-03-18 20:00:00</td>\n",
       "      <td>10.81</td>\n",
       "      <td>87</td>\n",
       "      <td>3.6</td>\n",
       "      <td>False</td>\n",
       "      <td>True</td>\n",
       "      <td>False</td>\n",
       "    </tr>\n",
       "    <tr>\n",
       "      <th>3</th>\n",
       "      <td>108</td>\n",
       "      <td>35</td>\n",
       "      <td>5</td>\n",
       "      <td>2021-03-18 20:00:00</td>\n",
       "      <td>10.81</td>\n",
       "      <td>87</td>\n",
       "      <td>3.6</td>\n",
       "      <td>False</td>\n",
       "      <td>True</td>\n",
       "      <td>False</td>\n",
       "    </tr>\n",
       "    <tr>\n",
       "      <th>4</th>\n",
       "      <td>56</td>\n",
       "      <td>23</td>\n",
       "      <td>16</td>\n",
       "      <td>2021-03-18 20:00:00</td>\n",
       "      <td>10.81</td>\n",
       "      <td>87</td>\n",
       "      <td>3.6</td>\n",
       "      <td>False</td>\n",
       "      <td>True</td>\n",
       "      <td>False</td>\n",
       "    </tr>\n",
       "  </tbody>\n",
       "</table>\n",
       "</div>"
      ],
      "text/plain": [
       "   Number  AvailableBikeStands  AvailableBikes             dayHour  \\\n",
       "0      42                   15              15 2021-03-18 20:00:00   \n",
       "1      30                    7              13 2021-03-18 20:00:00   \n",
       "2      54                   14              19 2021-03-18 20:00:00   \n",
       "3     108                   35               5 2021-03-18 20:00:00   \n",
       "4      56                   23              16 2021-03-18 20:00:00   \n",
       "\n",
       "   Temperature  Humidity  Visibility   rain  cloudy  isWeekDay  \n",
       "0        10.81        87         3.6  False    True      False  \n",
       "1        10.81        87         3.6  False    True      False  \n",
       "2        10.81        87         3.6  False    True      False  \n",
       "3        10.81        87         3.6  False    True      False  \n",
       "4        10.81        87         3.6  False    True      False  "
      ]
     },
     "execution_count": 37,
     "metadata": {},
     "output_type": "execute_result"
    }
   ],
   "source": [
    "train_data.head(5)"
   ]
  },
  {
   "cell_type": "code",
   "execution_count": 38,
   "metadata": {},
   "outputs": [
    {
     "data": {
      "text/plain": [
       "False    28064\n",
       "True     10458\n",
       "Name: isWeekDay, dtype: int64"
      ]
     },
     "execution_count": 38,
     "metadata": {},
     "output_type": "execute_result"
    }
   ],
   "source": [
    "train_data[\"isWeekDay\"].value_counts()"
   ]
  },
  {
   "cell_type": "code",
   "execution_count": 39,
   "metadata": {},
   "outputs": [],
   "source": [
    "train_data[\"Hour\"]=train_data[\"dayHour\"].dt.hour"
   ]
  },
  {
   "cell_type": "code",
   "execution_count": null,
   "metadata": {},
   "outputs": [],
   "source": []
  },
  {
   "cell_type": "code",
   "execution_count": 40,
   "metadata": {},
   "outputs": [
    {
     "data": {
      "text/html": [
       "<div>\n",
       "<style scoped>\n",
       "    .dataframe tbody tr th:only-of-type {\n",
       "        vertical-align: middle;\n",
       "    }\n",
       "\n",
       "    .dataframe tbody tr th {\n",
       "        vertical-align: top;\n",
       "    }\n",
       "\n",
       "    .dataframe thead th {\n",
       "        text-align: right;\n",
       "    }\n",
       "</style>\n",
       "<table border=\"1\" class=\"dataframe\">\n",
       "  <thead>\n",
       "    <tr style=\"text-align: right;\">\n",
       "      <th></th>\n",
       "      <th>Number</th>\n",
       "      <th>AvailableBikeStands</th>\n",
       "      <th>AvailableBikes</th>\n",
       "      <th>dayHour</th>\n",
       "      <th>Temperature</th>\n",
       "      <th>Humidity</th>\n",
       "      <th>Visibility</th>\n",
       "      <th>rain</th>\n",
       "      <th>cloudy</th>\n",
       "      <th>isWeekDay</th>\n",
       "      <th>Hour</th>\n",
       "    </tr>\n",
       "  </thead>\n",
       "  <tbody>\n",
       "    <tr>\n",
       "      <th>0</th>\n",
       "      <td>42</td>\n",
       "      <td>15</td>\n",
       "      <td>15</td>\n",
       "      <td>2021-03-18 20:00:00</td>\n",
       "      <td>10.81</td>\n",
       "      <td>87</td>\n",
       "      <td>3.6</td>\n",
       "      <td>False</td>\n",
       "      <td>True</td>\n",
       "      <td>False</td>\n",
       "      <td>20</td>\n",
       "    </tr>\n",
       "    <tr>\n",
       "      <th>1</th>\n",
       "      <td>30</td>\n",
       "      <td>7</td>\n",
       "      <td>13</td>\n",
       "      <td>2021-03-18 20:00:00</td>\n",
       "      <td>10.81</td>\n",
       "      <td>87</td>\n",
       "      <td>3.6</td>\n",
       "      <td>False</td>\n",
       "      <td>True</td>\n",
       "      <td>False</td>\n",
       "      <td>20</td>\n",
       "    </tr>\n",
       "    <tr>\n",
       "      <th>2</th>\n",
       "      <td>54</td>\n",
       "      <td>14</td>\n",
       "      <td>19</td>\n",
       "      <td>2021-03-18 20:00:00</td>\n",
       "      <td>10.81</td>\n",
       "      <td>87</td>\n",
       "      <td>3.6</td>\n",
       "      <td>False</td>\n",
       "      <td>True</td>\n",
       "      <td>False</td>\n",
       "      <td>20</td>\n",
       "    </tr>\n",
       "    <tr>\n",
       "      <th>3</th>\n",
       "      <td>108</td>\n",
       "      <td>35</td>\n",
       "      <td>5</td>\n",
       "      <td>2021-03-18 20:00:00</td>\n",
       "      <td>10.81</td>\n",
       "      <td>87</td>\n",
       "      <td>3.6</td>\n",
       "      <td>False</td>\n",
       "      <td>True</td>\n",
       "      <td>False</td>\n",
       "      <td>20</td>\n",
       "    </tr>\n",
       "    <tr>\n",
       "      <th>4</th>\n",
       "      <td>56</td>\n",
       "      <td>23</td>\n",
       "      <td>16</td>\n",
       "      <td>2021-03-18 20:00:00</td>\n",
       "      <td>10.81</td>\n",
       "      <td>87</td>\n",
       "      <td>3.6</td>\n",
       "      <td>False</td>\n",
       "      <td>True</td>\n",
       "      <td>False</td>\n",
       "      <td>20</td>\n",
       "    </tr>\n",
       "  </tbody>\n",
       "</table>\n",
       "</div>"
      ],
      "text/plain": [
       "   Number  AvailableBikeStands  AvailableBikes             dayHour  \\\n",
       "0      42                   15              15 2021-03-18 20:00:00   \n",
       "1      30                    7              13 2021-03-18 20:00:00   \n",
       "2      54                   14              19 2021-03-18 20:00:00   \n",
       "3     108                   35               5 2021-03-18 20:00:00   \n",
       "4      56                   23              16 2021-03-18 20:00:00   \n",
       "\n",
       "   Temperature  Humidity  Visibility   rain  cloudy  isWeekDay  Hour  \n",
       "0        10.81        87         3.6  False    True      False    20  \n",
       "1        10.81        87         3.6  False    True      False    20  \n",
       "2        10.81        87         3.6  False    True      False    20  \n",
       "3        10.81        87         3.6  False    True      False    20  \n",
       "4        10.81        87         3.6  False    True      False    20  "
      ]
     },
     "execution_count": 40,
     "metadata": {},
     "output_type": "execute_result"
    }
   ],
   "source": [
    "train_data.head()"
   ]
  },
  {
   "cell_type": "code",
   "execution_count": 52,
   "metadata": {},
   "outputs": [],
   "source": [
    "prediction_variables = [\"Temperature\",\"Humidity\",\"Hour\"]\n",
    "prediction_variables_bool=[\"isWeekDay\",\"rain\"]"
   ]
  },
  {
   "cell_type": "code",
   "execution_count": 53,
   "metadata": {},
   "outputs": [
    {
     "data": {
      "image/png": "[encoded data removed]",
      "text/plain": [
       "<Figure size 432x288 with 1 Axes>"
      ]
     },
     "metadata": {
      "needs_background": "light"
     },
     "output_type": "display_data"
    },
    {
     "data": {
      "image/png": "[encoded data removed]",
      "text/plain": [
       "<Figure size 432x288 with 1 Axes>"
      ]
     },
     "metadata": {
      "needs_background": "light"
     },
     "output_type": "display_data"
    },
    {
     "data": {
      "image/png": "[encoded data removed]",
      "text/plain": [
       "<Figure size 432x288 with 1 Axes>"
      ]
     },
     "metadata": {
      "needs_background": "light"
     },
     "output_type": "display_data"
    }
   ],
   "source": [
    "for i in prediction_variables:\n",
    "    p= train_data[i].plot.line(x=i,y=\"AvailableBikes\")\n",
    "    plt.title(i)\n",
    "    plt.show()"
   ]
  },
  {
   "cell_type": "code",
   "execution_count": 55,
   "metadata": {},
   "outputs": [
    {
     "data": {
      "image/png": "[encoded data removed]",
      "text/plain": [
       "<Figure size 432x288 with 1 Axes>"
      ]
     },
     "metadata": {
      "needs_background": "light"
     },
     "output_type": "display_data"
    },
    {
     "data": {
      "image/png": "[encoded data removed]",
      "text/plain": [
       "<Figure size 432x288 with 1 Axes>"
      ]
     },
     "metadata": {
      "needs_background": "light"
     },
     "output_type": "display_data"
    }
   ],
   "source": [
    "for i in prediction_variables_bool:\n",
    "    p=train_data.groupby([\"AvailableBikes\",i]).size()\n",
    "    p.unstack().plot(kind=\"bar\",stacked=True)\n",
    "    plt.title(i)\n",
    "    plt.show()"
   ]
  },
  {
   "cell_type": "markdown",
   "metadata": {},
   "source": [
    "# Create the Prediction model"
   ]
  },
  {
   "cell_type": "markdown",
   "metadata": {},
   "source": [
    "Version 1: A single prediction model for the whole dataset"
   ]
  },
  {
   "cell_type": "code",
   "execution_count": null,
   "metadata": {},
   "outputs": [],
   "source": [
    "x=train_data[[\"Hour\",\"Temperature\",\"rain\",\"isWeekDay\"]]\n",
    "y= train_data[\"AvailableBikes\"]"
   ]
  },
  {
   "cell_type": "code",
   "execution_count": null,
   "metadata": {},
   "outputs": [],
   "source": [
    "X_train, X_test, y_train,y_test = train_test_split(x,y,test_size=0.2,random_state=0)"
   ]
  },
  {
   "cell_type": "code",
   "execution_count": null,
   "metadata": {},
   "outputs": [],
   "source": [
    "regressor=LinearRegression()\n",
    "regressor.fit(X_train,y_train)"
   ]
  },
  {
   "cell_type": "code",
   "execution_count": null,
   "metadata": {},
   "outputs": [],
   "source": [
    "coeff_df = pd.DataFrame(regressor.coef_,x.columns,columns=[\"Coefficient\"])"
   ]
  },
  {
   "cell_type": "code",
   "execution_count": null,
   "metadata": {},
   "outputs": [],
   "source": [
    "coeff_df"
   ]
  },
  {
   "cell_type": "code",
   "execution_count": null,
   "metadata": {},
   "outputs": [],
   "source": [
    "y_pred=regressor.predict(X_test)\n",
    "\n",
    "dfer=pd.DataFrame({\"Actual\":y_test, \"Predicted\":y_pred})\n",
    "dfer"
   ]
  },
  {
   "cell_type": "code",
   "execution_count": null,
   "metadata": {},
   "outputs": [],
   "source": [
    "print('Mean Absolute Error:', metrics.mean_absolute_error(y_test, y_pred))\n",
    "print('Mean Squared Error:', metrics.mean_squared_error(y_test, y_pred))\n",
    "print('Root Mean Squared Error:', np.sqrt(metrics.mean_squared_error(y_test, y_pred)))"
   ]
  },
  {
   "cell_type": "code",
   "execution_count": null,
   "metadata": {},
   "outputs": [],
   "source": [
    "print('Mean Absolute Error:', metrics.mean_absolute_error(y_test, y_pred))\n",
    "print('Mean Squared Error:', metrics.mean_squared_error(y_test, y_pred))\n",
    "print('Root Mean Squared Error:', np.sqrt(metrics.mean_squared_error(y_test, y_pred)))"
   ]
  },
  {
   "cell_type": "markdown",
   "metadata": {},
   "source": [
    "Turns out running on the whole dataset isnt the best for an accurate prediction model"
   ]
  },
  {
   "cell_type": "markdown",
   "metadata": {},
   "source": [
    "### Model 2, One for each station"
   ]
  },
  {
   "cell_type": "markdown",
   "metadata": {},
   "source": [
    "Create a list of the unique station numbers"
   ]
  },
  {
   "cell_type": "code",
   "execution_count": null,
   "metadata": {},
   "outputs": [],
   "source": [
    "station_numbers=train_data[\"Number\"].unique()\n",
    "\n",
    "# This dictionary will be used to store the prediction models (the station number is the key) This will be pickled later on\n",
    "regression_models={}"
   ]
  },
  {
   "cell_type": "code",
   "execution_count": null,
   "metadata": {},
   "outputs": [],
   "source": [
    "# For each station Create the model, Test it, Print the test results and then add the model to the dictionary\n",
    "for i in station_numbers:\n",
    "    df=train_data.loc[train_data[\"Number\"] == i]\n",
    "    x=df[[\"Hour\",\"Temperature\",\"rain\",\"isWeekDay\"]]\n",
    "    y= df[\"AvailableBikes\"]\n",
    "    X_train, X_test, y_train,y_test = train_test_split(x,y,test_size=0.2,random_state=0)\n",
    "    regressor=LinearRegression()\n",
    "    regressor.fit(X_train,y_train)\n",
    "    y_pred=regressor.predict(X_test)\n",
    "    print(i,'Mean Absolute Error:', metrics.mean_absolute_error(y_test, y_pred))\n",
    "    print(i,'Mean Squared Error:', metrics.mean_squared_error(y_test, y_pred))\n",
    "    print(i,'Root Mean Squared Error:', np.sqrt(metrics.mean_squared_error(y_test, y_pred)))\n",
    "    print(\"-------------------------------------------------------------------------------\")\n",
    "    regression_models[i]=regressor\n"
   ]
  },
  {
   "cell_type": "markdown",
   "metadata": {},
   "source": [
    "Testing that the dictionary save method works"
   ]
  },
  {
   "cell_type": "code",
   "execution_count": null,
   "metadata": {},
   "outputs": [],
   "source": [
    "testy = train_data.iloc[[69]]\n",
    "testy_data=testy[[\"Hour\",\"Temperature\",\"rain\",\"isWeekDay\"]]\n",
    "regression= regression_models[testy.iloc[0][\"Number\"]]\n",
    "\n",
    "print(testy_data)\n",
    "\n",
    "regression.predict(testy_data)"
   ]
  },
  {
   "cell_type": "markdown",
   "metadata": {},
   "source": [
    "Create the pickle file"
   ]
  },
  {
   "cell_type": "code",
   "execution_count": null,
   "metadata": {},
   "outputs": [],
   "source": [
    "pickle_out = open(\"dict.pickle\",\"wb\")\n",
    "pickle.dump(regression_models,pickle_out)\n",
    "pickle_out.close()"
   ]
  },
  {
   "cell_type": "code",
   "execution_count": null,
   "metadata": {},
   "outputs": [],
   "source": []
  }
 ],
 "metadata": {
  "kernelspec": {
   "display_name": "Python 3",
   "language": "python",
   "name": "python3"
  },
  "language_info": {
   "codemirror_mode": {
    "name": "ipython",
    "version": 3
   },
   "file_extension": ".py",
   "mimetype": "text/x-python",
   "name": "python",
   "nbconvert_exporter": "python",
   "pygments_lexer": "ipython3",
   "version": "3.8.3"
  }
 },
 "nbformat": 4,
 "nbformat_minor": 4
}
